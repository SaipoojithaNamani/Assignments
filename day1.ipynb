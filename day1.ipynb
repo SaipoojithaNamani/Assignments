{
  "nbformat": 4,
  "nbformat_minor": 0,
  "metadata": {
    "colab": {
      "provenance": [],
      "authorship_tag": "ABX9TyNovvZI2+GXTVULts8aA+bv",
      "include_colab_link": true
    },
    "kernelspec": {
      "name": "python3",
      "display_name": "Python 3"
    },
    "language_info": {
      "name": "python"
    }
  },
  "cells": [
    {
      "cell_type": "markdown",
      "metadata": {
        "id": "view-in-github",
        "colab_type": "text"
      },
      "source": [
        "<a href=\"https://colab.research.google.com/github/SaipoojithaNamani/Assingments/blob/main/day1.ipynb\" target=\"_parent\"><img src=\"https://colab.research.google.com/assets/colab-badge.svg\" alt=\"Open In Colab\"/></a>"
      ]
    },
    {
      "cell_type": "code",
      "execution_count": 1,
      "metadata": {
        "colab": {
          "base_uri": "https://localhost:8080/"
        },
        "id": "ku3EGFUrd_RG",
        "outputId": "fd931cac-7421-4c6c-eb57-65138b312987"
      },
      "outputs": [
        {
          "output_type": "stream",
          "name": "stdout",
          "text": [
            "Variable: 10 Type: <class 'int'>\n",
            "Variable: 10.5 Type: <class 'float'>\n",
            "Variable: Hello, World! Type: <class 'str'>\n",
            "Variable: True Type: <class 'bool'>\n"
          ]
        }
      ],
      "source": [
        "# Declare variables of different data types\n",
        "integer_var = 10              # Integer data type\n",
        "float_var = 10.5              # Float data type\n",
        "string_var = \"Hello, World!\"  # String data type\n",
        "boolean_var = True            # Boolean data type\n",
        "\n",
        "# Print each variable and its type\n",
        "print(\"Variable:\", integer_var, \"Type:\", type(integer_var))\n",
        "print(\"Variable:\", float_var, \"Type:\", type(float_var))\n",
        "print(\"Variable:\", string_var, \"Type:\", type(string_var))\n",
        "print(\"Variable:\", boolean_var, \"Type:\", type(boolean_var))\n"
      ]
    },
    {
      "cell_type": "code",
      "source": [],
      "metadata": {
        "id": "0aC6kE4PeB58"
      },
      "execution_count": null,
      "outputs": []
    }
  ]
}