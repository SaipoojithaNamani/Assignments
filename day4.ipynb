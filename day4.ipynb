{
  "nbformat": 4,
  "nbformat_minor": 0,
  "metadata": {
    "colab": {
      "provenance": [],
      "authorship_tag": "ABX9TyParDbEYNpv8NBiSYPJGJD2",
      "include_colab_link": true
    },
    "kernelspec": {
      "name": "python3",
      "display_name": "Python 3"
    },
    "language_info": {
      "name": "python"
    }
  },
  "cells": [
    {
      "cell_type": "markdown",
      "metadata": {
        "id": "view-in-github",
        "colab_type": "text"
      },
      "source": [
        "<a href=\"https://colab.research.google.com/github/SaipoojithaNamani/Assingments/blob/main/day4.ipynb\" target=\"_parent\"><img src=\"https://colab.research.google.com/assets/colab-badge.svg\" alt=\"Open In Colab\"/></a>"
      ]
    },
    {
      "cell_type": "code",
      "execution_count": 1,
      "metadata": {
        "colab": {
          "base_uri": "https://localhost:8080/"
        },
        "id": "qNHf-kndgUeC",
        "outputId": "22bc99f9-2e78-477f-fe68-cb612574abaa"
      },
      "outputs": [
        {
          "output_type": "stream",
          "name": "stdout",
          "text": [
            "Enter a positive integer: 4\n",
            "The sum of all even numbers between 1 and 4 is: 6\n"
          ]
        }
      ],
      "source": [
        "# Function to calculate the sum of even numbers\n",
        "def sum_of_even_numbers(n):\n",
        "    if n < 1:\n",
        "        return \"Please enter a positive integer greater than 0.\"\n",
        "\n",
        "    even_sum = 0\n",
        "    for i in range(2, n + 1, 2):  # Start from 2, increment by 2 to get even numbers\n",
        "        even_sum += i\n",
        "    return even_sum\n",
        "\n",
        "# Input from user\n",
        "n = int(input(\"Enter a positive integer: \"))\n",
        "\n",
        "# Call the function and display the result\n",
        "result = sum_of_even_numbers(n)\n",
        "print(f\"The sum of all even numbers between 1 and {n} is: {result}\")\n"
      ]
    },
    {
      "cell_type": "code",
      "source": [],
      "metadata": {
        "id": "CUvj86EhggoO"
      },
      "execution_count": null,
      "outputs": []
    }
  ]
}