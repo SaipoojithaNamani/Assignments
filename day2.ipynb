{
  "nbformat": 4,
  "nbformat_minor": 0,
  "metadata": {
    "colab": {
      "provenance": [],
      "authorship_tag": "ABX9TyMSzy70rXQNTIVS+knOkWbG",
      "include_colab_link": true
    },
    "kernelspec": {
      "name": "python3",
      "display_name": "Python 3"
    },
    "language_info": {
      "name": "python"
    }
  },
  "cells": [
    {
      "cell_type": "markdown",
      "metadata": {
        "id": "view-in-github",
        "colab_type": "text"
      },
      "source": [
        "<a href=\"https://colab.research.google.com/github/SaipoojithaNamani/Assingments/blob/main/day2.ipynb\" target=\"_parent\"><img src=\"https://colab.research.google.com/assets/colab-badge.svg\" alt=\"Open In Colab\"/></a>"
      ]
    },
    {
      "cell_type": "code",
      "execution_count": 1,
      "metadata": {
        "colab": {
          "base_uri": "https://localhost:8080/"
        },
        "id": "q6ZPZgTZfivk",
        "outputId": "302dff2a-bdb7-4f7d-952c-c679451cb539"
      },
      "outputs": [
        {
          "output_type": "stream",
          "name": "stdout",
          "text": [
            "Apple\n",
            "Dates\n",
            "['Banana', 'Cherry', 'Dates']\n"
          ]
        }
      ],
      "source": [
        "# Creating a list\n",
        "fruits = [\"Apple\", \"Banana\", \"Cherry\", \"Dates\", \"Elderberry\"]\n",
        "\n",
        "# Accessing elements by index\n",
        "print(fruits[0])  # Output: Apple (1st element)\n",
        "print(fruits[3])  # Output: Dates (4th element)\n",
        "\n",
        "# Accessing a range of elements\n",
        "print(fruits[1:4])  # Output: ['Banana', 'Cherry', 'Dates'] (2nd to 4th elements)\n"
      ]
    },
    {
      "cell_type": "code",
      "source": [
        "# Creating a tuple\n",
        "numbers = (10, 20, 30, 40, 50)\n",
        "\n",
        "# Accessing elements by index\n",
        "print(numbers[0])  # Output: 10 (1st element)\n",
        "print(numbers[4])  # Output: 50 (5th element)\n",
        "\n",
        "# Accessing a range of elements\n",
        "print(numbers[2:])  # Output: (30, 40, 50) (from 3rd element to the end)\n"
      ],
      "metadata": {
        "colab": {
          "base_uri": "https://localhost:8080/"
        },
        "id": "EhUWvq_vfldp",
        "outputId": "73de2cf3-7539-4d10-e239-ae95dacbeae4"
      },
      "execution_count": 2,
      "outputs": [
        {
          "output_type": "stream",
          "name": "stdout",
          "text": [
            "10\n",
            "50\n",
            "(30, 40, 50)\n"
          ]
        }
      ]
    },
    {
      "cell_type": "code",
      "source": [
        "# Creating a dictionary\n",
        "student_scores = {\n",
        "    \"Alice\": 85,\n",
        "    \"Bob\": 90,\n",
        "    \"Charlie\": 78,\n",
        "    \"Diana\": 92,\n",
        "    \"Eve\": 88\n",
        "}\n",
        "\n",
        "# Accessing elements by key\n",
        "print(student_scores[\"Alice\"])  # Output: 85\n",
        "print(student_scores[\"Diana\"])  # Output: 92\n",
        "\n",
        "# Accessing all keys and values\n",
        "print(student_scores.keys())   # Output: dict_keys(['Alice', 'Bob', 'Charlie', 'Diana', 'Eve'])\n",
        "print(student_scores.values()) # Output: dict_values([85, 90, 78, 92, 88])\n"
      ],
      "metadata": {
        "colab": {
          "base_uri": "https://localhost:8080/"
        },
        "id": "KS66IUugfpqa",
        "outputId": "ba879918-8041-404c-9a6c-8335558ab527"
      },
      "execution_count": 3,
      "outputs": [
        {
          "output_type": "stream",
          "name": "stdout",
          "text": [
            "85\n",
            "92\n",
            "dict_keys(['Alice', 'Bob', 'Charlie', 'Diana', 'Eve'])\n",
            "dict_values([85, 90, 78, 92, 88])\n"
          ]
        }
      ]
    },
    {
      "cell_type": "code",
      "source": [],
      "metadata": {
        "id": "fMpXNiTYfs5Y"
      },
      "execution_count": null,
      "outputs": []
    }
  ]
}