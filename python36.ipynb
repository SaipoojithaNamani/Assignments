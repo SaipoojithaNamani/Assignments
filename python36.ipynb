{
  "nbformat": 4,
  "nbformat_minor": 0,
  "metadata": {
    "colab": {
      "provenance": [],
      "authorship_tag": "ABX9TyMdbsej/iwlEK9yKha5eVuP",
      "include_colab_link": true
    },
    "kernelspec": {
      "name": "python3",
      "display_name": "Python 3"
    },
    "language_info": {
      "name": "python"
    }
  },
  "cells": [
    {
      "cell_type": "markdown",
      "metadata": {
        "id": "view-in-github",
        "colab_type": "text"
      },
      "source": [
        "<a href=\"https://colab.research.google.com/github/SaipoojithaNamani/Assignments/blob/main/python36.ipynb\" target=\"_parent\"><img src=\"https://colab.research.google.com/assets/colab-badge.svg\" alt=\"Open In Colab\"/></a>"
      ]
    },
    {
      "cell_type": "code",
      "execution_count": 5,
      "metadata": {
        "colab": {
          "base_uri": "https://localhost:8080/"
        },
        "id": "gbwSGVByAghr",
        "outputId": "6adb19bc-ee9f-402c-d226-1731417f74b5"
      },
      "outputs": [
        {
          "output_type": "stream",
          "name": "stdout",
          "text": [
            "0.744771018455229\n"
          ]
        }
      ],
      "source": [
        "from pandas import read_csv\n",
        "from sklearn.model_selection import KFold #Fixed: Changed Kfold to KFold\n",
        "from sklearn.model_selection import cross_val_score\n",
        "from sklearn.ensemble import AdaBoostClassifier\n",
        "filename = '/content/pima-indians-diabetes.data.csv'\n",
        "names = ['preg', 'plas', 'pres', 'skin', 'test', 'mass', 'pedi', 'age', 'class']\n",
        "dataframe = read_csv(filename, names=names)\n",
        "array = dataframe.values\n",
        "X = array[:,0:8]\n",
        "Y = array[:,8]\n",
        "num_trees = 10\n",
        "seed=7\n",
        "kfold = KFold(n_splits=10,shuffle=True,random_state=seed) #Fixed: Changed Kfold to KFold\n",
        "model = AdaBoostClassifier(n_estimators=num_trees,random_state=seed)\n",
        "results = cross_val_score(model,X,Y,cv=kfold)\n",
        "print(results.mean())"
      ]
    },
    {
      "cell_type": "code",
      "source": [
        "from pandas import read_csv\n",
        "from sklearn.model_selection import KFold #Fixed: Changed Kfold to KFold\n",
        "from sklearn.model_selection import cross_val_score\n",
        "from sklearn.linear_model import LogisticRegression\n",
        "from sklearn.tree import DecisionTreeClassifier\n",
        "from sklearn.svm import SVC\n",
        "from sklearn.ensemble import VotingClassifier\n",
        "filename = '/content/pima-indians-diabetes.data.csv'\n",
        "names = ['preg','plas','pres','skin','test', 'mass', 'pedi', 'age', 'class']\n",
        "dataframe = read_csv(filename, names=names)\n",
        "array = dataframe.values\n",
        "X = array[:,0:8] # Changed from 0:8 to 0:7 to select the first 7 columns for features\n",
        "Y = array[:,8]\n",
        "kfold = KFold(n_splits=10,shuffle=True,random_state=7)\n",
        "# create the sub models\n",
        "estimators = []\n",
        "model1 = LogisticRegression(max_iter=500)\n",
        "estimators.append(('logistic', model1))\n",
        "model2 = DecisionTreeClassifier()\n",
        "estimators.append(('cart', model2))\n",
        "model3 = SVC()\n",
        "estimators.append(('svm', model3))\n",
        "\n",
        "#create the ensemble  model\n",
        "ensemble = VotingClassifier(estimators)\n",
        "results = cross_val_score(ensemble,X,Y,cv=kfold)\n",
        "print(results.mean())\n"
      ],
      "metadata": {
        "colab": {
          "base_uri": "https://localhost:8080/"
        },
        "id": "cKknp0zOB27Q",
        "outputId": "9d4ecc3a-0914-4999-9f6f-0324dab1dbe3"
      },
      "execution_count": 8,
      "outputs": [
        {
          "output_type": "stream",
          "name": "stdout",
          "text": [
            "0.773479152426521\n"
          ]
        }
      ]
    },
    {
      "cell_type": "code",
      "source": [],
      "metadata": {
        "id": "J060UbTeHK2N"
      },
      "execution_count": null,
      "outputs": []
    }
  ]
}