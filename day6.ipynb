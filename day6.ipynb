{
  "nbformat": 4,
  "nbformat_minor": 0,
  "metadata": {
    "colab": {
      "provenance": [],
      "authorship_tag": "ABX9TyNMCxqndOHwSbqnvcE+NVjP",
      "include_colab_link": true
    },
    "kernelspec": {
      "name": "python3",
      "display_name": "Python 3"
    },
    "language_info": {
      "name": "python"
    }
  },
  "cells": [
    {
      "cell_type": "markdown",
      "metadata": {
        "id": "view-in-github",
        "colab_type": "text"
      },
      "source": [
        "<a href=\"https://colab.research.google.com/github/SaipoojithaNamani/Assingments/blob/main/day6.ipynb\" target=\"_parent\"><img src=\"https://colab.research.google.com/assets/colab-badge.svg\" alt=\"Open In Colab\"/></a>"
      ]
    },
    {
      "cell_type": "code",
      "execution_count": 1,
      "metadata": {
        "colab": {
          "base_uri": "https://localhost:8080/"
        },
        "id": "tBidotZKhT_H",
        "outputId": "26d76d8b-2068-4983-e518-de0417392859"
      },
      "outputs": [
        {
          "output_type": "stream",
          "name": "stdout",
          "text": [
            "First 2 rows of the DataFrame:\n",
            "    Name  Age Department  Salary\n",
            "0   John   28         HR   45000\n",
            "1  Alice   34         IT   60000\n",
            "\n",
            "DataFrame after adding 'Bonus' column:\n",
            "    Name  Age Department  Salary   Bonus\n",
            "0   John   28         HR   45000  4500.0\n",
            "1  Alice   34         IT   60000  6000.0\n",
            "2    Bob   23  Marketing   35000  3500.0\n",
            "3  Diana   29    Finance   50000  5000.0\n",
            "\n",
            "The average salary of employees is: 47500.0\n",
            "\n",
            "Employees older than 25:\n",
            "    Name  Age Department  Salary   Bonus\n",
            "0   John   28         HR   45000  4500.0\n",
            "1  Alice   34         IT   60000  6000.0\n",
            "3  Diana   29    Finance   50000  5000.0\n"
          ]
        }
      ],
      "source": [
        "import pandas as pd\n",
        "\n",
        "# Task 1: Create a DataFrame\n",
        "data = {\n",
        "    'Name': ['John', 'Alice', 'Bob', 'Diana'],\n",
        "    'Age': [28, 34, 23, 29],\n",
        "    'Department': ['HR', 'IT', 'Marketing', 'Finance'],\n",
        "    'Salary': [45000, 60000, 35000, 50000]\n",
        "}\n",
        "\n",
        "df = pd.DataFrame(data)\n",
        "\n",
        "# Task 2: Display the first 2 rows\n",
        "print(\"First 2 rows of the DataFrame:\")\n",
        "print(df.head(2))\n",
        "\n",
        "# Task 3: Add a new column 'Bonus' where the bonus is 10% of the salary\n",
        "df['Bonus'] = df['Salary'] * 0.10\n",
        "print(\"\\nDataFrame after adding 'Bonus' column:\")\n",
        "print(df)\n",
        "\n",
        "# Task 4: Calculate the average salary of employees\n",
        "average_salary = df['Salary'].mean()\n",
        "print(f\"\\nThe average salary of employees is: {average_salary}\")\n",
        "\n",
        "# Task 5: Filter and display employees who are older than 25\n",
        "older_than_25 = df[df['Age'] > 25]\n",
        "print(\"\\nEmployees older than 25:\")\n",
        "print(older_than_25)\n"
      ]
    },
    {
      "cell_type": "code",
      "source": [],
      "metadata": {
        "id": "zqEL1_oqhgPR"
      },
      "execution_count": null,
      "outputs": []
    }
  ]
}