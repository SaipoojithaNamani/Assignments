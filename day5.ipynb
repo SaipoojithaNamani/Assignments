{
  "nbformat": 4,
  "nbformat_minor": 0,
  "metadata": {
    "colab": {
      "provenance": [],
      "authorship_tag": "ABX9TyNoqNPZLy6lIFM/EOr+Pzzc",
      "include_colab_link": true
    },
    "kernelspec": {
      "name": "python3",
      "display_name": "Python 3"
    },
    "language_info": {
      "name": "python"
    }
  },
  "cells": [
    {
      "cell_type": "markdown",
      "metadata": {
        "id": "view-in-github",
        "colab_type": "text"
      },
      "source": [
        "<a href=\"https://colab.research.google.com/github/SaipoojithaNamani/Assingments/blob/main/day5.ipynb\" target=\"_parent\"><img src=\"https://colab.research.google.com/assets/colab-badge.svg\" alt=\"Open In Colab\"/></a>"
      ]
    },
    {
      "cell_type": "code",
      "execution_count": 1,
      "metadata": {
        "colab": {
          "base_uri": "https://localhost:8080/"
        },
        "id": "iY5THz5Kg4u2",
        "outputId": "461f97ed-72d4-4de8-d858-ecea9e2fc8d8"
      },
      "outputs": [
        {
          "output_type": "stream",
          "name": "stdout",
          "text": [
            "Enter a positive integer: 4\n",
            "Numbers from 1 to 4 :\n",
            "1\n",
            "2\n",
            "3\n",
            "4\n",
            "The sum of numbers from 1 to 4 is: 10\n"
          ]
        }
      ],
      "source": [
        "# Task 1: Print numbers from 1 to n\n",
        "n = int(input(\"Enter a positive integer: \"))\n",
        "\n",
        "# Ensure the input is positive\n",
        "if n > 0:\n",
        "    # Using a for loop to print numbers from 1 to n\n",
        "    print(\"Numbers from 1 to\", n, \":\")\n",
        "    for i in range(1, n + 1):\n",
        "        print(i)\n",
        "\n",
        "    # Task 2: Calculate the sum of numbers from 1 to n using a while loop\n",
        "    sum_numbers = 0\n",
        "    i = 1\n",
        "    while i <= n:\n",
        "        sum_numbers += i\n",
        "        i += 1\n",
        "\n",
        "    print(f\"The sum of numbers from 1 to {n} is: {sum_numbers}\")\n",
        "else:\n",
        "    print(\"Please enter a positive integer.\")\n"
      ]
    },
    {
      "cell_type": "code",
      "source": [
        "# Task 1: Define a function to calculate the square of a number\n",
        "def calculate_square(n):\n",
        "    return n * n\n",
        "\n",
        "# Task 2: Main program\n",
        "n = int(input(\"Enter a positive integer: \"))\n",
        "\n",
        "# Ensure the input is positive\n",
        "if n > 0:\n",
        "    result = calculate_square(n)\n",
        "    print(f\"The square of {n} is: {result}\")\n",
        "else:\n",
        "    print(\"Please enter a positive integer.\")\n"
      ],
      "metadata": {
        "colab": {
          "base_uri": "https://localhost:8080/"
        },
        "id": "fbDpujjxhE2b",
        "outputId": "154036a8-055a-4d03-d440-c28dfae80ddb"
      },
      "execution_count": 2,
      "outputs": [
        {
          "output_type": "stream",
          "name": "stdout",
          "text": [
            "Enter a positive integer: 7\n",
            "The square of 7 is: 49\n"
          ]
        }
      ]
    },
    {
      "cell_type": "code",
      "source": [],
      "metadata": {
        "id": "iX8Ffsj8hIHC"
      },
      "execution_count": null,
      "outputs": []
    }
  ]
}